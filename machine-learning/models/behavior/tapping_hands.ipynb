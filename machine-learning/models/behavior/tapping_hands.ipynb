{
 "cells": [
  {
   "cell_type": "code",
   "execution_count": 1,
   "id": "c55c8154",
   "metadata": {},
   "outputs": [
    {
     "name": "stdout",
     "output_type": "stream",
     "text": [
      "Requirement already satisfied: torch in c:\\users\\nelly\\desktop\\bea_project_2\\.venv\\lib\\site-packages (2.7.1)Note: you may need to restart the kernel to use updated packages.\n",
      "\n",
      "Requirement already satisfied: torchvision in c:\\users\\nelly\\desktop\\bea_project_2\\.venv\\lib\\site-packages (0.22.1)\n",
      "Requirement already satisfied: opencv-python in c:\\users\\nelly\\desktop\\bea_project_2\\.venv\\lib\\site-packages (4.11.0.86)\n",
      "Requirement already satisfied: matplotlib in c:\\users\\nelly\\desktop\\bea_project_2\\.venv\\lib\\site-packages (3.10.3)\n",
      "Requirement already satisfied: seaborn in c:\\users\\nelly\\desktop\\bea_project_2\\.venv\\lib\\site-packages (0.13.2)\n",
      "Requirement already satisfied: tqdm in c:\\users\\nelly\\desktop\\bea_project_2\\.venv\\lib\\site-packages (4.67.1)\n",
      "Requirement already satisfied: scikit-learn in c:\\users\\nelly\\desktop\\bea_project_2\\.venv\\lib\\site-packages (1.7.0)\n",
      "Requirement already satisfied: networkx in c:\\users\\nelly\\desktop\\bea_project_2\\.venv\\lib\\site-packages (from torch) (3.4.2)\n",
      "Requirement already satisfied: sympy>=1.13.3 in c:\\users\\nelly\\desktop\\bea_project_2\\.venv\\lib\\site-packages (from torch) (1.14.0)\n",
      "Requirement already satisfied: filelock in c:\\users\\nelly\\desktop\\bea_project_2\\.venv\\lib\\site-packages (from torch) (3.18.0)\n",
      "Requirement already satisfied: fsspec in c:\\users\\nelly\\desktop\\bea_project_2\\.venv\\lib\\site-packages (from torch) (2025.5.1)\n",
      "Requirement already satisfied: typing-extensions>=4.10.0 in c:\\users\\nelly\\desktop\\bea_project_2\\.venv\\lib\\site-packages (from torch) (4.14.0)\n",
      "Requirement already satisfied: jinja2 in c:\\users\\nelly\\desktop\\bea_project_2\\.venv\\lib\\site-packages (from torch) (3.1.6)\n",
      "Requirement already satisfied: numpy in c:\\users\\nelly\\desktop\\bea_project_2\\.venv\\lib\\site-packages (from torchvision) (1.26.4)\n",
      "Requirement already satisfied: pillow!=8.3.*,>=5.3.0 in c:\\users\\nelly\\desktop\\bea_project_2\\.venv\\lib\\site-packages (from torchvision) (11.2.1)\n",
      "Requirement already satisfied: contourpy>=1.0.1 in c:\\users\\nelly\\desktop\\bea_project_2\\.venv\\lib\\site-packages (from matplotlib) (1.3.2)\n",
      "Requirement already satisfied: python-dateutil>=2.7 in c:\\users\\nelly\\desktop\\bea_project_2\\.venv\\lib\\site-packages (from matplotlib) (2.9.0.post0)\n",
      "Requirement already satisfied: fonttools>=4.22.0 in c:\\users\\nelly\\desktop\\bea_project_2\\.venv\\lib\\site-packages (from matplotlib) (4.58.4)\n",
      "Requirement already satisfied: pyparsing>=2.3.1 in c:\\users\\nelly\\desktop\\bea_project_2\\.venv\\lib\\site-packages (from matplotlib) (3.2.3)\n",
      "Requirement already satisfied: kiwisolver>=1.3.1 in c:\\users\\nelly\\desktop\\bea_project_2\\.venv\\lib\\site-packages (from matplotlib) (1.4.8)\n",
      "Requirement already satisfied: packaging>=20.0 in c:\\users\\nelly\\desktop\\bea_project_2\\.venv\\lib\\site-packages (from matplotlib) (25.0)\n",
      "Requirement already satisfied: cycler>=0.10 in c:\\users\\nelly\\desktop\\bea_project_2\\.venv\\lib\\site-packages (from matplotlib) (0.12.1)\n",
      "Requirement already satisfied: pandas>=1.2 in c:\\users\\nelly\\desktop\\bea_project_2\\.venv\\lib\\site-packages (from seaborn) (2.3.0)\n",
      "Requirement already satisfied: colorama in c:\\users\\nelly\\desktop\\bea_project_2\\.venv\\lib\\site-packages (from tqdm) (0.4.6)\n",
      "Requirement already satisfied: scipy>=1.8.0 in c:\\users\\nelly\\desktop\\bea_project_2\\.venv\\lib\\site-packages (from scikit-learn) (1.15.3)\n",
      "Requirement already satisfied: threadpoolctl>=3.1.0 in c:\\users\\nelly\\desktop\\bea_project_2\\.venv\\lib\\site-packages (from scikit-learn) (3.6.0)\n",
      "Requirement already satisfied: joblib>=1.2.0 in c:\\users\\nelly\\desktop\\bea_project_2\\.venv\\lib\\site-packages (from scikit-learn) (1.5.1)\n",
      "Requirement already satisfied: pytz>=2020.1 in c:\\users\\nelly\\desktop\\bea_project_2\\.venv\\lib\\site-packages (from pandas>=1.2->seaborn) (2025.2)\n",
      "Requirement already satisfied: tzdata>=2022.7 in c:\\users\\nelly\\desktop\\bea_project_2\\.venv\\lib\\site-packages (from pandas>=1.2->seaborn) (2025.2)\n",
      "Requirement already satisfied: six>=1.5 in c:\\users\\nelly\\desktop\\bea_project_2\\.venv\\lib\\site-packages (from python-dateutil>=2.7->matplotlib) (1.17.0)\n",
      "Requirement already satisfied: mpmath<1.4,>=1.1.0 in c:\\users\\nelly\\desktop\\bea_project_2\\.venv\\lib\\site-packages (from sympy>=1.13.3->torch) (1.3.0)\n",
      "Requirement already satisfied: MarkupSafe>=2.0 in c:\\users\\nelly\\desktop\\bea_project_2\\.venv\\lib\\site-packages (from jinja2->torch) (3.0.2)\n"
     ]
    },
    {
     "name": "stderr",
     "output_type": "stream",
     "text": [
      "WARNING: You are using pip version 21.2.3; however, version 25.1.1 is available.\n",
      "You should consider upgrading via the 'c:\\Users\\nelly\\Desktop\\BEA_Project_2\\.venv\\Scripts\\python.exe -m pip install --upgrade pip' command.\n"
     ]
    }
   ],
   "source": [
    "%pip install torch torchvision opencv-python matplotlib seaborn tqdm scikit-learn"
   ]
  },
  {
   "cell_type": "code",
   "execution_count": 2,
   "id": "ee680558",
   "metadata": {},
   "outputs": [],
   "source": [
    "import os\n",
    "import cv2\n",
    "import torch\n",
    "import torch.nn as nn\n",
    "import numpy as np\n",
    "from torchvision import transforms, models\n",
    "from torch.utils.data import Dataset, DataLoader, ConcatDataset\n",
    "from sklearn.metrics import classification_report, confusion_matrix, accuracy_score\n",
    "import matplotlib.pyplot as plt\n",
    "import seaborn as sns\n",
    "from tqdm import tqdm\n"
   ]
  },
  {
   "cell_type": "code",
   "execution_count": 3,
   "id": "04ef072b",
   "metadata": {},
   "outputs": [],
   "source": [
    "import os\n",
    "import torch\n",
    "import cv2\n",
    "import numpy as np\n",
    "from torch.utils.data import Dataset\n",
    "\n",
    "class VideoDataset(Dataset):\n",
    "    def __init__(self, folder, label, transform=None, seq_len=10):\n",
    "        self.transform = transform\n",
    "        self.seq_len = seq_len\n",
    "        self.label = label\n",
    "        self.samples = [os.path.join(folder, f) for f in os.listdir(folder) if f.endswith(\".mp4\")]\n",
    "\n",
    "    def __len__(self):\n",
    "        return len(self.samples)\n",
    "\n",
    "    def read_video(self, path):\n",
    "        cap = cv2.VideoCapture(path)\n",
    "        frames = []\n",
    "        while True:\n",
    "            ret, frame = cap.read()\n",
    "            if not ret:\n",
    "                break\n",
    "            frame = cv2.resize(frame, (64, 64))\n",
    "            if self.transform:\n",
    "                frame = self.transform(frame)\n",
    "            frames.append(frame)\n",
    "        cap.release()\n",
    "\n",
    "        if len(frames) < self.seq_len:\n",
    "            return None\n",
    "        idxs = np.linspace(0, len(frames) - 1, self.seq_len).astype(int)\n",
    "        return torch.stack([frames[i] for i in idxs])\n",
    "\n",
    "    def __getitem__(self, idx):\n",
    "        path = self.samples[idx]\n",
    "        frames = self.read_video(path)\n",
    "        while frames is None:\n",
    "            idx = (idx + 1) % len(self.samples)\n",
    "            path = self.samples[idx]\n",
    "            frames = self.read_video(path)\n",
    "        return frames, torch.tensor(self.label, dtype=torch.long)\n"
   ]
  },
  {
   "cell_type": "code",
   "execution_count": 4,
   "id": "c27bdaef",
   "metadata": {},
   "outputs": [
    {
     "name": "stdout",
     "output_type": "stream",
     "text": [
      "Train: 260 | Test: 64\n"
     ]
    }
   ],
   "source": [
    "transform = transforms.Compose([\n",
    "    transforms.ToPILImage(),\n",
    "    transforms.ToTensor()\n",
    "])\n",
    "\n",
    "base = \"tapping_hands\"\n",
    "\n",
    "train_data = [\n",
    "    VideoDataset(os.path.join(base, \"tapping/training\"), 1, transform),\n",
    "    VideoDataset(os.path.join(base, \"non-tapping/training\"), 0, transform)\n",
    "]\n",
    "\n",
    "test_data = [\n",
    "    VideoDataset(os.path.join(base, \"tapping/testing\"), 1, transform),\n",
    "    VideoDataset(os.path.join(base, \"non-tapping/testing\"), 0, transform)\n",
    "]\n",
    "\n",
    "train_dataset = ConcatDataset(train_data)\n",
    "test_dataset = ConcatDataset(test_data)\n",
    "\n",
    "train_loader = DataLoader(train_dataset, batch_size=4, shuffle=True)\n",
    "test_loader = DataLoader(test_dataset, batch_size=4, shuffle=False)\n",
    "\n",
    "print(f\"Train: {len(train_dataset)} | Test: {len(test_dataset)}\")\n"
   ]
  },
  {
   "cell_type": "code",
   "execution_count": 5,
   "id": "0c0dac59",
   "metadata": {},
   "outputs": [],
   "source": [
    "class CNNLSTM(nn.Module):\n",
    "    def __init__(self, hidden_dim=128):\n",
    "        super(CNNLSTM, self).__init__()\n",
    "        mobilenet = models.mobilenet_v2(pretrained=True)\n",
    "        self.feature_extractor = mobilenet.features\n",
    "        self.pool = nn.AdaptiveAvgPool2d((1, 1))\n",
    "        self.lstm = nn.LSTM(input_size=1280, hidden_size=hidden_dim, batch_first=True)\n",
    "        self.classifier = nn.Linear(hidden_dim, 2)\n",
    "\n",
    "    def forward(self, x):\n",
    "        b, t, c, h, w = x.size()\n",
    "        x = x.view(-1, c, h, w)\n",
    "        with torch.no_grad():\n",
    "            x = self.feature_extractor(x)\n",
    "            x = self.pool(x)\n",
    "        x = x.view(b, t, -1)\n",
    "        lstm_out, _ = self.lstm(x)\n",
    "        out = self.classifier(lstm_out[:, -1])\n",
    "        return out\n"
   ]
  },
  {
   "cell_type": "code",
   "execution_count": 22,
   "id": "6426344e",
   "metadata": {},
   "outputs": [
    {
     "name": "stderr",
     "output_type": "stream",
     "text": [
      "100%|██████████| 65/65 [01:08<00:00,  1.05s/it]\n"
     ]
    },
    {
     "name": "stdout",
     "output_type": "stream",
     "text": [
      "Epoch 1/20 | Loss: 32.0836\n"
     ]
    },
    {
     "name": "stderr",
     "output_type": "stream",
     "text": [
      "100%|██████████| 65/65 [01:17<00:00,  1.18s/it]\n"
     ]
    },
    {
     "name": "stdout",
     "output_type": "stream",
     "text": [
      "Epoch 2/20 | Loss: 17.2469\n"
     ]
    },
    {
     "name": "stderr",
     "output_type": "stream",
     "text": [
      "100%|██████████| 65/65 [01:23<00:00,  1.28s/it]\n"
     ]
    },
    {
     "name": "stdout",
     "output_type": "stream",
     "text": [
      "Epoch 3/20 | Loss: 13.2265\n"
     ]
    },
    {
     "name": "stderr",
     "output_type": "stream",
     "text": [
      "100%|██████████| 65/65 [01:10<00:00,  1.09s/it]\n"
     ]
    },
    {
     "name": "stdout",
     "output_type": "stream",
     "text": [
      "Epoch 4/20 | Loss: 11.9543\n"
     ]
    },
    {
     "name": "stderr",
     "output_type": "stream",
     "text": [
      "100%|██████████| 65/65 [01:04<00:00,  1.00it/s]\n"
     ]
    },
    {
     "name": "stdout",
     "output_type": "stream",
     "text": [
      "Epoch 5/20 | Loss: 7.8394\n"
     ]
    },
    {
     "name": "stderr",
     "output_type": "stream",
     "text": [
      "100%|██████████| 65/65 [01:04<00:00,  1.01it/s]\n"
     ]
    },
    {
     "name": "stdout",
     "output_type": "stream",
     "text": [
      "Epoch 6/20 | Loss: 5.3920\n"
     ]
    },
    {
     "name": "stderr",
     "output_type": "stream",
     "text": [
      "100%|██████████| 65/65 [01:04<00:00,  1.01it/s]\n"
     ]
    },
    {
     "name": "stdout",
     "output_type": "stream",
     "text": [
      "Epoch 7/20 | Loss: 7.4511\n"
     ]
    },
    {
     "name": "stderr",
     "output_type": "stream",
     "text": [
      "100%|██████████| 65/65 [01:04<00:00,  1.00it/s]\n"
     ]
    },
    {
     "name": "stdout",
     "output_type": "stream",
     "text": [
      "Epoch 8/20 | Loss: 9.1600\n"
     ]
    },
    {
     "name": "stderr",
     "output_type": "stream",
     "text": [
      "100%|██████████| 65/65 [01:05<00:00,  1.01s/it]\n"
     ]
    },
    {
     "name": "stdout",
     "output_type": "stream",
     "text": [
      "Epoch 9/20 | Loss: 9.1593\n"
     ]
    },
    {
     "name": "stderr",
     "output_type": "stream",
     "text": [
      "100%|██████████| 65/65 [01:20<00:00,  1.25s/it]\n"
     ]
    },
    {
     "name": "stdout",
     "output_type": "stream",
     "text": [
      "Epoch 10/20 | Loss: 7.0499\n"
     ]
    },
    {
     "name": "stderr",
     "output_type": "stream",
     "text": [
      "100%|██████████| 65/65 [01:18<00:00,  1.21s/it]\n"
     ]
    },
    {
     "name": "stdout",
     "output_type": "stream",
     "text": [
      "Epoch 11/20 | Loss: 5.6208\n"
     ]
    },
    {
     "name": "stderr",
     "output_type": "stream",
     "text": [
      "100%|██████████| 65/65 [01:12<00:00,  1.12s/it]\n"
     ]
    },
    {
     "name": "stdout",
     "output_type": "stream",
     "text": [
      "Epoch 12/20 | Loss: 6.3813\n"
     ]
    },
    {
     "name": "stderr",
     "output_type": "stream",
     "text": [
      "100%|██████████| 65/65 [01:04<00:00,  1.00it/s]\n"
     ]
    },
    {
     "name": "stdout",
     "output_type": "stream",
     "text": [
      "Epoch 13/20 | Loss: 3.9997\n"
     ]
    },
    {
     "name": "stderr",
     "output_type": "stream",
     "text": [
      "100%|██████████| 65/65 [01:06<00:00,  1.02s/it]\n"
     ]
    },
    {
     "name": "stdout",
     "output_type": "stream",
     "text": [
      "Epoch 14/20 | Loss: 5.5173\n"
     ]
    },
    {
     "name": "stderr",
     "output_type": "stream",
     "text": [
      "100%|██████████| 65/65 [01:15<00:00,  1.16s/it]\n"
     ]
    },
    {
     "name": "stdout",
     "output_type": "stream",
     "text": [
      "Epoch 15/20 | Loss: 5.1224\n"
     ]
    },
    {
     "name": "stderr",
     "output_type": "stream",
     "text": [
      "100%|██████████| 65/65 [01:08<00:00,  1.05s/it]\n"
     ]
    },
    {
     "name": "stdout",
     "output_type": "stream",
     "text": [
      "Epoch 16/20 | Loss: 6.7755\n"
     ]
    },
    {
     "name": "stderr",
     "output_type": "stream",
     "text": [
      "100%|██████████| 65/65 [01:09<00:00,  1.07s/it]\n"
     ]
    },
    {
     "name": "stdout",
     "output_type": "stream",
     "text": [
      "Epoch 17/20 | Loss: 8.7397\n"
     ]
    },
    {
     "name": "stderr",
     "output_type": "stream",
     "text": [
      "100%|██████████| 65/65 [01:10<00:00,  1.09s/it]\n"
     ]
    },
    {
     "name": "stdout",
     "output_type": "stream",
     "text": [
      "Epoch 18/20 | Loss: 3.4721\n"
     ]
    },
    {
     "name": "stderr",
     "output_type": "stream",
     "text": [
      "100%|██████████| 65/65 [01:05<00:00,  1.01s/it]\n"
     ]
    },
    {
     "name": "stdout",
     "output_type": "stream",
     "text": [
      "Epoch 19/20 | Loss: 2.3585\n"
     ]
    },
    {
     "name": "stderr",
     "output_type": "stream",
     "text": [
      "100%|██████████| 65/65 [01:05<00:00,  1.00s/it]"
     ]
    },
    {
     "name": "stdout",
     "output_type": "stream",
     "text": [
      "Epoch 20/20 | Loss: 5.2937\n"
     ]
    },
    {
     "name": "stderr",
     "output_type": "stream",
     "text": [
      "\n"
     ]
    }
   ],
   "source": [
    "device = torch.device(\"cuda\" if torch.cuda.is_available() else \"cpu\")\n",
    "model = CNNLSTM().to(device)\n",
    "\n",
    "criterion = nn.CrossEntropyLoss()\n",
    "optimizer = torch.optim.Adam(model.parameters(), lr=1e-4)\n",
    "epochs = 20\n",
    "\n",
    "for epoch in range(epochs):\n",
    "    model.train()\n",
    "    total_loss = 0\n",
    "    for inputs, labels in tqdm(train_loader):\n",
    "        inputs, labels = inputs.to(device), labels.to(device)\n",
    "        outputs = model(inputs)\n",
    "        loss = criterion(outputs, labels)\n",
    "\n",
    "        optimizer.zero_grad()\n",
    "        loss.backward()\n",
    "        optimizer.step()\n",
    "        total_loss += loss.item()\n",
    "\n",
    "    print(f\"Epoch {epoch+1}/{epochs} | Loss: {total_loss:.4f}\")\n"
   ]
  },
  {
   "cell_type": "code",
   "execution_count": 23,
   "id": "22db8af8",
   "metadata": {},
   "outputs": [
    {
     "name": "stdout",
     "output_type": "stream",
     "text": [
      "\n",
      "Accuracy: 1.00\n",
      "\n",
      "Classification Report:\n",
      "              precision    recall  f1-score   support\n",
      "\n",
      " Non-Tapping       1.00      1.00      1.00        32\n",
      "     Tapping       1.00      1.00      1.00        32\n",
      "\n",
      "    accuracy                           1.00        64\n",
      "   macro avg       1.00      1.00      1.00        64\n",
      "weighted avg       1.00      1.00      1.00        64\n",
      "\n"
     ]
    },
    {
     "data": {
      "image/png": "[encoded data removed]",
      "text/plain": [
       "<Figure size 500x400 with 2 Axes>"
      ]
     },
     "metadata": {},
     "output_type": "display_data"
    }
   ],
   "source": [
    "model.eval()\n",
    "all_preds = []\n",
    "all_labels = []\n",
    "\n",
    "with torch.no_grad():\n",
    "    for inputs, labels in test_loader:\n",
    "        inputs = inputs.to(device)\n",
    "        outputs = model(inputs)\n",
    "        preds = torch.argmax(outputs, dim=1).cpu().numpy()\n",
    "        all_preds.extend(preds)\n",
    "        all_labels.extend(labels.numpy())\n",
    "\n",
    "acc = accuracy_score(all_labels, all_preds)\n",
    "print(f\"\\nAccuracy: {acc:.2f}\")\n",
    "\n",
    "print(\"\\nClassification Report:\")\n",
    "print(classification_report(all_labels, all_preds, target_names=[\"Non-Tapping\", \"Tapping\"]))\n",
    "\n",
    "cm = confusion_matrix(all_labels, all_preds)\n",
    "plt.figure(figsize=(5, 4))\n",
    "sns.heatmap(cm, annot=True, fmt=\"d\", cmap=\"Blues\", xticklabels=[\"Non-Tapping\", \"Tapping\"], yticklabels=[\"Non-Tapping\", \"Tapping\"])\n",
    "plt.title(\"Confusion Matrix\")\n",
    "plt.xlabel(\"Predicted\")\n",
    "plt.ylabel(\"Actual\")\n",
    "plt.show()\n"
   ]
  },
  {
   "cell_type": "code",
   "execution_count": 24,
   "id": "66797f4f",
   "metadata": {},
   "outputs": [
    {
     "name": "stdout",
     "output_type": "stream",
     "text": [
      "Model saved as bea_cnn_lstm_v2.pth\n"
     ]
    }
   ],
   "source": [
    "torch.save(model.state_dict(), \"bea_cnn_lstm_v2.pth\")\n",
    "print(\"Model saved as bea_cnn_lstm_v2.pth\")"
   ]
  },
  {
   "cell_type": "code",
   "execution_count": 11,
   "id": "3440cebb",
   "metadata": {},
   "outputs": [
    {
     "name": "stdout",
     "output_type": "stream",
     "text": [
      "Requirement already satisfied: mediapipe in c:\\users\\nelly\\desktop\\bea_project_2\\.venv\\lib\\site-packages (0.10.21)\n",
      "Requirement already satisfied: attrs>=19.1.0 in c:\\users\\nelly\\desktop\\bea_project_2\\.venv\\lib\\site-packages (from mediapipe) (25.3.0)\n",
      "Requirement already satisfied: numpy<2 in c:\\users\\nelly\\desktop\\bea_project_2\\.venv\\lib\\site-packages (from mediapipe) (1.26.4)\n",
      "Requirement already satisfied: opencv-contrib-python in c:\\users\\nelly\\desktop\\bea_project_2\\.venv\\lib\\site-packages (from mediapipe) (4.11.0.86)\n",
      "Requirement already satisfied: sounddevice>=0.4.4 in c:\\users\\nelly\\desktop\\bea_project_2\\.venv\\lib\\site-packages (from mediapipe) (0.5.2)\n",
      "Requirement already satisfied: jax in c:\\users\\nelly\\desktop\\bea_project_2\\.venv\\lib\\site-packages (from mediapipe) (0.6.2)\n",
      "Requirement already satisfied: protobuf<5,>=4.25.3 in c:\\users\\nelly\\desktop\\bea_project_2\\.venv\\lib\\site-packages (from mediapipe) (4.25.8)\n",
      "Requirement already satisfied: flatbuffers>=2.0 in c:\\users\\nelly\\desktop\\bea_project_2\\.venv\\lib\\site-packages (from mediapipe) (25.2.10)\n",
      "Requirement already satisfied: sentencepiece in c:\\users\\nelly\\desktop\\bea_project_2\\.venv\\lib\\site-packages (from mediapipe) (0.2.0)\n",
      "Requirement already satisfied: matplotlib in c:\\users\\nelly\\desktop\\bea_project_2\\.venv\\lib\\site-packages (from mediapipe) (3.10.3)\n",
      "Requirement already satisfied: jaxlib in c:\\users\\nelly\\desktop\\bea_project_2\\.venv\\lib\\site-packages (from mediapipe) (0.6.2)\n",
      "Requirement already satisfied: absl-py in c:\\users\\nelly\\desktop\\bea_project_2\\.venv\\lib\\site-packages (from mediapipe) (2.3.0)\n",
      "Requirement already satisfied: CFFI>=1.0 in c:\\users\\nelly\\desktop\\bea_project_2\\.venv\\lib\\site-packages (from sounddevice>=0.4.4->mediapipe) (1.17.1)\n",
      "Requirement already satisfied: pycparser in c:\\users\\nelly\\desktop\\bea_project_2\\.venv\\lib\\site-packages (from CFFI>=1.0->sounddevice>=0.4.4->mediapipe) (2.22)\n",
      "Requirement already satisfied: opt_einsum in c:\\users\\nelly\\desktop\\bea_project_2\\.venv\\lib\\site-packages (from jax->mediapipe) (3.4.0)\n",
      "Requirement already satisfied: ml_dtypes>=0.5.0 in c:\\users\\nelly\\desktop\\bea_project_2\\.venv\\lib\\site-packages (from jax->mediapipe) (0.5.1)\n",
      "Requirement already satisfied: scipy>=1.12 in c:\\users\\nelly\\desktop\\bea_project_2\\.venv\\lib\\site-packages (from jax->mediapipe) (1.15.3)\n",
      "Requirement already satisfied: packaging>=20.0 in c:\\users\\nelly\\desktop\\bea_project_2\\.venv\\lib\\site-packages (from matplotlib->mediapipe) (25.0)\n",
      "Requirement already satisfied: pillow>=8 in c:\\users\\nelly\\desktop\\bea_project_2\\.venv\\lib\\site-packages (from matplotlib->mediapipe) (11.2.1)\n",
      "Requirement already satisfied: fonttools>=4.22.0 in c:\\users\\nelly\\desktop\\bea_project_2\\.venv\\lib\\site-packages (from matplotlib->mediapipe) (4.58.4)\n",
      "Requirement already satisfied: cycler>=0.10 in c:\\users\\nelly\\desktop\\bea_project_2\\.venv\\lib\\site-packages (from matplotlib->mediapipe) (0.12.1)\n",
      "Requirement already satisfied: contourpy>=1.0.1 in c:\\users\\nelly\\desktop\\bea_project_2\\.venv\\lib\\site-packages (from matplotlib->mediapipe) (1.3.2)\n",
      "Requirement already satisfied: kiwisolver>=1.3.1 in c:\\users\\nelly\\desktop\\bea_project_2\\.venv\\lib\\site-packages (from matplotlib->mediapipe) (1.4.8)\n",
      "Requirement already satisfied: pyparsing>=2.3.1 in c:\\users\\nelly\\desktop\\bea_project_2\\.venv\\lib\\site-packages (from matplotlib->mediapipe) (3.2.3)\n",
      "Requirement already satisfied: python-dateutil>=2.7 in c:\\users\\nelly\\desktop\\bea_project_2\\.venv\\lib\\site-packages (from matplotlib->mediapipe) (2.9.0.post0)\n",
      "Requirement already satisfied: six>=1.5 in c:\\users\\nelly\\desktop\\bea_project_2\\.venv\\lib\\site-packages (from python-dateutil>=2.7->matplotlib->mediapipe) (1.17.0)\n",
      "Note: you may need to restart the kernel to use updated packages.\n"
     ]
    },
    {
     "name": "stderr",
     "output_type": "stream",
     "text": [
      "WARNING: You are using pip version 21.2.3; however, version 25.1.1 is available.\n",
      "You should consider upgrading via the 'c:\\Users\\nelly\\Desktop\\BEA_Project_2\\.venv\\Scripts\\python.exe -m pip install --upgrade pip' command.\n"
     ]
    }
   ],
   "source": [
    "pip install mediapipe"
   ]
  },
  {
   "cell_type": "code",
   "execution_count": 1,
   "id": "409ca543",
   "metadata": {},
   "outputs": [
    {
     "name": "stdout",
     "output_type": "stream",
     "text": [
      "pygame 2.6.1 (SDL 2.28.4, Python 3.10.0)\n",
      "Hello from the pygame community. https://www.pygame.org/contribute.html\n"
     ]
    },
    {
     "name": "stderr",
     "output_type": "stream",
     "text": [
      "c:\\Users\\nelly\\Desktop\\BEA_Project_2\\.venv\\lib\\site-packages\\torchvision\\models\\_utils.py:208: UserWarning: The parameter 'pretrained' is deprecated since 0.13 and may be removed in the future, please use 'weights' instead.\n",
      "  warnings.warn(\n",
      "c:\\Users\\nelly\\Desktop\\BEA_Project_2\\.venv\\lib\\site-packages\\torchvision\\models\\_utils.py:223: UserWarning: Arguments other than a weight enum or `None` for 'weights' are deprecated since 0.13 and may be removed in the future. The current behavior is equivalent to passing `weights=MobileNet_V2_Weights.IMAGENET1K_V1`. You can also use `weights=MobileNet_V2_Weights.DEFAULT` to get the most up-to-date weights.\n",
      "  warnings.warn(msg)\n"
     ]
    }
   ],
   "source": [
    "import tkinter as tk\n",
    "from PIL import Image, ImageTk\n",
    "import cv2\n",
    "import torch\n",
    "import torch.nn as nn\n",
    "import numpy as np\n",
    "from torchvision import transforms, models\n",
    "from collections import deque\n",
    "import time\n",
    "import os\n",
    "import pygame\n",
    "import mediapipe as mp\n",
    "\n",
    "# --- Model Definition ---\n",
    "class CNNLSTM(nn.Module):\n",
    "    def __init__(self, hidden_dim=128):\n",
    "        super(CNNLSTM, self).__init__()\n",
    "        mobilenet = models.mobilenet_v2(pretrained=True)\n",
    "        self.feature_extractor = mobilenet.features\n",
    "        self.pool = nn.AdaptiveAvgPool2d((1, 1))\n",
    "        self.lstm = nn.LSTM(input_size=1280, hidden_size=hidden_dim, batch_first=True)\n",
    "        self.classifier = nn.Linear(hidden_dim, 2)\n",
    "\n",
    "    def forward(self, x):\n",
    "        b, t, c, h, w = x.size()\n",
    "        x = x.view(-1, c, h, w)\n",
    "        with torch.no_grad():\n",
    "            x = self.feature_extractor(x)\n",
    "            x = self.pool(x)\n",
    "        x = x.view(b, t, -1)\n",
    "        lstm_out, _ = self.lstm(x)\n",
    "        out = self.classifier(lstm_out[:, -1])\n",
    "        return out\n",
    "\n",
    "# --- Setup ---\n",
    "SEQ_FRAMES = 10\n",
    "IMG_SIZE = 64\n",
    "AUDIO_FILE = \"beep.wav\"\n",
    "device = torch.device(\"cuda\" if torch.cuda.is_available() else \"cpu\")\n",
    "\n",
    "# Load model\n",
    "model = CNNLSTM().to(device)\n",
    "model.load_state_dict(torch.load(\"bea_cnn_lstm_v2.pth\", map_location=device))\n",
    "model.eval()\n",
    "\n",
    "# Init audio\n",
    "pygame.mixer.init()\n",
    "if os.path.exists(AUDIO_FILE):\n",
    "    beep = pygame.mixer.Sound(AUDIO_FILE)\n",
    "else:\n",
    "    beep = None\n",
    "\n",
    "# Init mediapipe\n",
    "mp_hands = mp.solutions.hands\n",
    "mp_drawing = mp.solutions.drawing_utils\n",
    "hand_tracker = mp_hands.Hands(static_image_mode=False, max_num_hands=2, min_detection_confidence=0.5, min_tracking_confidence=0.5)\n",
    "\n",
    "# Frame transformation\n",
    "transform = transforms.Compose([\n",
    "    transforms.ToPILImage(),\n",
    "    transforms.ToTensor()\n",
    "])\n",
    "\n",
    "# --- GUI App ---\n",
    "class TapCounterApp:\n",
    "    def __init__(self, root):\n",
    "        self.root = root\n",
    "        self.root.title(\"BEA - Tapping Counter (Per Minute Display)\")\n",
    "\n",
    "        self.canvas = tk.Label(root)\n",
    "        self.canvas.pack()\n",
    "\n",
    "        self.count_label = tk.Label(root, text=\"Taps this minute: 0\", font=(\"Arial\", 18))\n",
    "        self.count_label.pack(pady=5)\n",
    "\n",
    "        self.total_label = tk.Label(root, text=\"Total Minutes Logged: 0\", font=(\"Arial\", 14))\n",
    "        self.total_label.pack(pady=5)\n",
    "\n",
    "        self.cap = cv2.VideoCapture(0)\n",
    "        self.prev_gray = None\n",
    "        self.frame_queue = deque(maxlen=SEQ_FRAMES)\n",
    "        self.tap_count = 0\n",
    "        self.total_minutes = 0\n",
    "        self.prev_pred = 0\n",
    "        self.last_tap_time = time.time()\n",
    "        self.min_interval = 0.1\n",
    "\n",
    "        self.start_time = time.time()\n",
    "        self.last_logged_minute = 0\n",
    "\n",
    "        self.update_frame()\n",
    "\n",
    "    def update_frame(self):\n",
    "        ret, frame = self.cap.read()\n",
    "        if not ret:\n",
    "            self.root.after(10, self.update_frame)\n",
    "            return\n",
    "\n",
    "        rgb = cv2.cvtColor(frame, cv2.COLOR_BGR2RGB)\n",
    "        display_img = cv2.resize(rgb, (640, 480))\n",
    "        model_input_frame = display_img.copy()\n",
    "\n",
    "        # Draw hand skeletons\n",
    "        results = hand_tracker.process(display_img)\n",
    "        if results.multi_hand_landmarks:\n",
    "            for hand_landmarks in results.multi_hand_landmarks:\n",
    "                mp_drawing.draw_landmarks(display_img, hand_landmarks, mp_hands.HAND_CONNECTIONS)\n",
    "\n",
    "        img = Image.fromarray(display_img)\n",
    "        imgtk = ImageTk.PhotoImage(image=img)\n",
    "        self.canvas.imgtk = imgtk\n",
    "        self.canvas.configure(image=imgtk)\n",
    "\n",
    "        gray = cv2.cvtColor(model_input_frame, cv2.COLOR_RGB2GRAY)\n",
    "        if self.prev_gray is None:\n",
    "            self.prev_gray = cv2.resize(gray, (IMG_SIZE, IMG_SIZE))\n",
    "            self.root.after(30, self.update_frame)\n",
    "            return\n",
    "\n",
    "        curr_gray = cv2.resize(gray, (IMG_SIZE, IMG_SIZE))\n",
    "        diff = cv2.absdiff(self.prev_gray, curr_gray)\n",
    "        self.prev_gray = curr_gray\n",
    "\n",
    "        diff = np.expand_dims(diff, axis=-1)\n",
    "        diff = np.repeat(diff, 3, axis=-1)\n",
    "        diff = transform(diff)\n",
    "        self.frame_queue.append(diff)\n",
    "\n",
    "        if len(self.frame_queue) == SEQ_FRAMES:\n",
    "            sequence = torch.stack(list(self.frame_queue)).unsqueeze(0).to(device)\n",
    "            with torch.no_grad():\n",
    "                output = model(sequence)\n",
    "                probs = torch.softmax(output, dim=1).cpu().numpy()[0]\n",
    "                pred = np.argmax(probs)\n",
    "\n",
    "            current_time = time.time()\n",
    "            if (\n",
    "                self.prev_pred == 0 and pred == 1 and\n",
    "                (current_time - self.last_tap_time > self.min_interval)\n",
    "            ):\n",
    "                self.tap_count += 1\n",
    "                self.last_tap_time = current_time\n",
    "                self.count_label.config(text=f\"Taps this minute: {self.tap_count}\")\n",
    "                if beep: beep.play()\n",
    "\n",
    "            self.prev_pred = pred\n",
    "\n",
    "        elapsed_minutes = int((time.time() - self.start_time) // 60)\n",
    "        if elapsed_minutes > self.last_logged_minute:\n",
    "            self.last_logged_minute = elapsed_minutes\n",
    "            self.total_minutes += 1\n",
    "            self.count_label.config(text=f\"Taps this minute: 0\")\n",
    "            self.total_label.config(text=f\"Total Minutes Logged: {self.total_minutes}\")\n",
    "            self.tap_count = 0\n",
    "\n",
    "        self.root.after(30, self.update_frame)\n",
    "\n",
    "    def on_close(self):\n",
    "        self.cap.release()\n",
    "        self.root.destroy()\n",
    "\n",
    "# --- Run GUI ---\n",
    "root = tk.Tk()\n",
    "app = TapCounterApp(root)\n",
    "root.protocol(\"WM_DELETE_WINDOW\", app.on_close)\n",
    "root.mainloop()\n"
   ]
  },
  {
   "cell_type": "code",
   "execution_count": 2,
   "id": "3e514857",
   "metadata": {},
   "outputs": [
    {
     "name": "stderr",
     "output_type": "stream",
     "text": [
      "Exception in Tkinter callback\n",
      "Traceback (most recent call last):\n",
      "  File \"C:\\Users\\nelly\\AppData\\Local\\Programs\\Python\\Python310\\lib\\tkinter\\__init__.py\", line 1921, in __call__\n",
      "    return self.func(*args)\n",
      "  File \"C:\\Users\\nelly\\AppData\\Local\\Temp\\ipykernel_30856\\1879935836.py\", line 130, in process_video\n",
      "    imgtk = ImageTk.PhotoImage(image=img)\n",
      "  File \"c:\\Users\\nelly\\Desktop\\BEA_Project_2\\.venv\\lib\\site-packages\\PIL\\ImageTk.py\", line 129, in __init__\n",
      "    self.__photo = tkinter.PhotoImage(**kw)\n",
      "  File \"C:\\Users\\nelly\\AppData\\Local\\Programs\\Python\\Python310\\lib\\tkinter\\__init__.py\", line 4093, in __init__\n",
      "    Image.__init__(self, 'photo', name, cnf, master, **kw)\n",
      "  File \"C:\\Users\\nelly\\AppData\\Local\\Programs\\Python\\Python310\\lib\\tkinter\\__init__.py\", line 4026, in __init__\n",
      "    master = _get_default_root('create image')\n",
      "  File \"C:\\Users\\nelly\\AppData\\Local\\Programs\\Python\\Python310\\lib\\tkinter\\__init__.py\", line 297, in _get_default_root\n",
      "    raise RuntimeError(f\"Too early to {what}: no default root window\")\n",
      "RuntimeError: Too early to create image: no default root window\n"
     ]
    }
   ],
   "source": [
    "import tkinter as tk\n",
    "from tkinter import filedialog\n",
    "from PIL import Image, ImageTk\n",
    "import cv2\n",
    "import torch\n",
    "import torch.nn as nn\n",
    "import numpy as np\n",
    "from torchvision import transforms, models\n",
    "from collections import deque\n",
    "import time\n",
    "import pygame\n",
    "import os\n",
    "\n",
    "# --- Model Definition ---\n",
    "class CNNLSTM(nn.Module):\n",
    "    def __init__(self, hidden_dim=128):\n",
    "        super(CNNLSTM, self).__init__()\n",
    "        mobilenet = models.mobilenet_v2(pretrained=True)\n",
    "        self.feature_extractor = mobilenet.features\n",
    "        self.pool = nn.AdaptiveAvgPool2d((1, 1))\n",
    "        self.lstm = nn.LSTM(input_size=1280, hidden_size=hidden_dim, batch_first=True)\n",
    "        self.classifier = nn.Linear(hidden_dim, 2)\n",
    "\n",
    "    def forward(self, x):\n",
    "        b, t, c, h, w = x.size()\n",
    "        x = x.view(-1, c, h, w)\n",
    "        with torch.no_grad():\n",
    "            x = self.feature_extractor(x)\n",
    "            x = self.pool(x)\n",
    "        x = x.view(b, t, -1)\n",
    "        lstm_out, _ = self.lstm(x)\n",
    "        out = self.classifier(lstm_out[:, -1])\n",
    "        return out\n",
    "\n",
    "# --- Setup ---\n",
    "SEQ_FRAMES = 10\n",
    "IMG_SIZE = 64\n",
    "AUDIO_FILE = \"beep.wav\"\n",
    "device = torch.device(\"cuda\" if torch.cuda.is_available() else \"cpu\")\n",
    "\n",
    "# Load model\n",
    "model = CNNLSTM().to(device)\n",
    "model.load_state_dict(torch.load(\"bea_cnn_lstm_v2.pth\", map_location=device))\n",
    "model.eval()\n",
    "\n",
    "# Init audio\n",
    "pygame.mixer.init()\n",
    "if os.path.exists(AUDIO_FILE):\n",
    "    beep = pygame.mixer.Sound(AUDIO_FILE)\n",
    "else:\n",
    "    beep = None\n",
    "\n",
    "# Frame transformation\n",
    "transform = transforms.Compose([\n",
    "    transforms.ToPILImage(),\n",
    "    transforms.ToTensor()\n",
    "])\n",
    "\n",
    "# --- GUI App ---\n",
    "class TapVideoApp:\n",
    "    def __init__(self, root):\n",
    "        self.root = root\n",
    "        self.root.title(\"BEA - Tapping Counter (Video Upload)\")\n",
    "\n",
    "        self.canvas = tk.Label(root)\n",
    "        self.canvas.pack()\n",
    "\n",
    "        self.count_label = tk.Label(root, text=\"Taps Detected: 0\", font=(\"Arial\", 18))\n",
    "        self.count_label.pack(pady=10)\n",
    "\n",
    "        self.upload_btn = tk.Button(root, text=\"Upload Video\", command=self.process_video)\n",
    "        self.upload_btn.pack(pady=10)\n",
    "\n",
    "        self.frame_queue = deque(maxlen=SEQ_FRAMES)\n",
    "        self.tap_count = 0\n",
    "        self.prev_pred = 0\n",
    "        self.min_interval = 0.1\n",
    "        self.last_tap_time = time.time()\n",
    "\n",
    "    def process_video(self):\n",
    "        video_path = filedialog.askopenfilename(filetypes=[(\"Video files\", \"*.mp4 *.avi\")])\n",
    "        if not video_path:\n",
    "            return\n",
    "\n",
    "        cap = cv2.VideoCapture(video_path)\n",
    "        self.tap_count = 0\n",
    "        self.prev_pred = 0\n",
    "        self.frame_queue.clear()\n",
    "        self.last_tap_time = time.time()\n",
    "\n",
    "        while cap.isOpened():\n",
    "            ret, frame = cap.read()\n",
    "            if not ret:\n",
    "                break\n",
    "\n",
    "            rgb = cv2.cvtColor(frame, cv2.COLOR_BGR2RGB)\n",
    "            display_img = cv2.resize(rgb, (640, 480))\n",
    "            model_input_frame = cv2.resize(rgb, (IMG_SIZE, IMG_SIZE))\n",
    "            gray = cv2.cvtColor(model_input_frame, cv2.COLOR_RGB2GRAY)\n",
    "            diff = cv2.absdiff(gray, gray)  # placeholder for frame diff\n",
    "\n",
    "            if hasattr(self, 'prev_gray'):\n",
    "                diff = cv2.absdiff(self.prev_gray, gray)\n",
    "            self.prev_gray = gray\n",
    "\n",
    "            diff = np.expand_dims(diff, axis=-1)\n",
    "            diff = np.repeat(diff, 3, axis=-1)\n",
    "            diff = transform(diff)\n",
    "            self.frame_queue.append(diff)\n",
    "\n",
    "            if len(self.frame_queue) == SEQ_FRAMES:\n",
    "                sequence = torch.stack(list(self.frame_queue)).unsqueeze(0).to(device)\n",
    "                with torch.no_grad():\n",
    "                    output = model(sequence)\n",
    "                    probs = torch.softmax(output, dim=1).cpu().numpy()[0]\n",
    "                    pred = np.argmax(probs)\n",
    "\n",
    "                current_time = time.time()\n",
    "                if (\n",
    "                    self.prev_pred == 0 and pred == 1 and\n",
    "                    (current_time - self.last_tap_time > self.min_interval)\n",
    "                ):\n",
    "                    self.tap_count += 1\n",
    "                    self.last_tap_time = current_time\n",
    "                    if beep: beep.play()\n",
    "\n",
    "                self.prev_pred = pred\n",
    "\n",
    "            img = Image.fromarray(display_img)\n",
    "            imgtk = ImageTk.PhotoImage(image=img)\n",
    "            self.canvas.imgtk = imgtk\n",
    "            self.canvas.configure(image=imgtk)\n",
    "            self.count_label.config(text=f\"Taps Detected: {self.tap_count}\")\n",
    "            self.root.update()\n",
    "\n",
    "        cap.release()\n",
    "        self.count_label.config(text=f\"Total Taps: {self.tap_count}\")\n",
    "\n",
    "# --- Run GUI ---\n",
    "root = tk.Tk()\n",
    "app = TapVideoApp(root)\n",
    "root.protocol(\"WM_DELETE_WINDOW\", root.destroy)\n",
    "root.mainloop()\n"
   ]
  }
 ],
 "metadata": {
  "kernelspec": {
   "display_name": ".venv",
   "language": "python",
   "name": "python3"
  },
  "language_info": {
   "codemirror_mode": {
    "name": "ipython",
    "version": 3
   },
   "file_extension": ".py",
   "mimetype": "text/x-python",
   "name": "python",
   "nbconvert_exporter": "python",
   "pygments_lexer": "ipython3",
   "version": "3.10.0"
  }
 },
 "nbformat": 4,
 "nbformat_minor": 5
}
