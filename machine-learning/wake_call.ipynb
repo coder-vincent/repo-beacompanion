{
 "cells": [
  {
   "cell_type": "code",
   "execution_count": null,
   "id": "dea230b3",
   "metadata": {},
   "outputs": [],
   "source": [
    "##Clone git clone https://github.com/MycroftAI/mycroft-precise\n",
    "##  cd mycroft-precise\n",
    "\n",
    "## ./setup.sh\n",
    "\n",
    "# source .venv/bin/activate\n",
    "# precise-train -e 100 wake-word.net data/\n",
    "# precise-test wake-word.net data/\n",
    "# precise-convert wake-word.net\n",
    "\n",
    "# mycroft-config edit user\n"
   ]
  },
  {
   "cell_type": "code",
   "execution_count": null,
   "id": "24202332",
   "metadata": {},
   "outputs": [],
   "source": [
    "{\n",
    "  \"listener\": {\n",
    "    \"wake_word\": \"hello bea\"\n",
    "  },\n",
    "  \"hotwords\": {\n",
    "    \"hello bea\": {\n",
    "      \"module\": \"precise\",\n",
    "      \"local_model_file\": \"~/.mycroft/precise/wake-word.pb\"\n",
    "    }\n",
    "  }\n",
    "}\n"
   ]
  }
 ],
 "metadata": {
  "language_info": {
   "name": "python"
  }
 },
 "nbformat": 4,
 "nbformat_minor": 5
}
